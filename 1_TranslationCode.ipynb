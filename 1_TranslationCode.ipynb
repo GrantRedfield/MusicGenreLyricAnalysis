{
 "cells": [
  {
   "cell_type": "markdown",
   "id": "9f176caa-ae41-4831-8bcf-08c5338c03f0",
   "metadata": {},
   "source": [
    "# Translation of Non-English Songs To English\n",
    "\n",
    "\n",
    "Description: This code translates any non-english lyric into English using the Google Translator API https://cloud.google.com/translate\n",
    "The source data contains many portugese and spanish songs.\n",
    "\n",
    "### Please note. It turns out that this API is much more expensive to use than anticipated. I do NOT recommend doing this yourself.\n",
    "\n",
    "### Output\n",
    "1. Translated_Lyrics.csv\n",
    "\n",
    "\n"
   ]
  },
  {
   "cell_type": "code",
   "execution_count": null,
   "id": "2ff0677b-1cf1-4bcd-a6ab-cdefd39c1259",
   "metadata": {},
   "outputs": [],
   "source": [
    "#!pip install google-cloud-translate==2.0.1\n",
    "from google.cloud import translate_v2 as translate\n",
    "os.environ[\"GOOGLE_APPLICATION_CREDENTIALS\"]=\"C://Users//Grant//Desktop//TA_PROJECT//uvafinalprojecttextanalysis-2cfef0ddfd22.json\""
   ]
  },
  {
   "cell_type": "code",
   "execution_count": null,
   "id": "1894bde5-b047-4890-9643-0b06c623b740",
   "metadata": {},
   "outputs": [],
   "source": [
    "Lyrics_File = \"C://Users//Grant//Desktop//TA_PROJECT//lyrics-data.csv\"\n",
    "Artists_File = \"C://Users//Grant//Desktop//TA_PROJECT//artists-data.csv\"\n",
    "lyrics_df = pd.read_csv (Lyrics_File)\n",
    "artists_df = pd.read_csv(Artists_File)"
   ]
  },
  {
   "cell_type": "code",
   "execution_count": null,
   "id": "b7d5d7cd-564e-4899-8836-1f9450312183",
   "metadata": {},
   "outputs": [],
   "source": [
    "lyrics_df = lyrics_df[lyrics_df['Lyric'] != \"Instrumental\"]"
   ]
  },
  {
   "cell_type": "code",
   "execution_count": null,
   "id": "3ad785ee-ecb1-4bc8-a4e0-d343b0b226e6",
   "metadata": {},
   "outputs": [],
   "source": [
    "def translate_text_with_model(target, text, model=\"nmt\"):\n",
    "    \"\"\"Translates text into the target language.\n",
    "    Make sure your project is allowlisted.\n",
    "    Target must be an ISO 639-1 language code.\n",
    "    See https://g.co/cloud/translate/v2/translate-reference#supported_languages\n",
    "    \"\"\"\n",
    "    translate_client = translate.Client()\n",
    "\n",
    "    if isinstance(text, bytes):\n",
    "        text = text.decode(\"utf-8\")\n",
    "    try:\n",
    "    # Text can also be a sequence of strings, in which case this method\n",
    "    # will return a sequence of results for each text.\n",
    "        result = translate_client.translate(text, target_language=target, model=model)\n",
    "        return result[\"translatedText\"]\n",
    "    except:\n",
    "        return \"ERROR\""
   ]
  },
  {
   "cell_type": "code",
   "execution_count": null,
   "id": "a45a9d28-f02d-4b8c-be3e-5674c39f87f3",
   "metadata": {},
   "outputs": [],
   "source": [
    "NON_ENGLISH_SONGS_DF = lyrics_df[lyrics_df[\"Idiom\"] != \"ENGLISH\"]\n",
    "ENGLISH_SONGS_DF = lyrics_df[lyrics_df[\"Idiom\"] == \"ENGLISH\"]"
   ]
  },
  {
   "cell_type": "code",
   "execution_count": null,
   "id": "ef849d98-706c-4698-91e4-a5478a4de2a0",
   "metadata": {},
   "outputs": [],
   "source": [
    "NON_ENGLISH_SONGS_DF['Translated_Lyrics'] = NON_ENGLISH_SONGS_DF['Lyric'].apply(lambda x: translate_text_with_model(\"en\", x))"
   ]
  },
  {
   "cell_type": "code",
   "execution_count": null,
   "id": "44cbf16e-64d5-4a89-9564-79e3d0b71474",
   "metadata": {},
   "outputs": [],
   "source": [
    "NON_ENGLISH_SONGS_DF.to_csv('C://Users//Grant//Desktop//TA_PROJECT//NON_ENGLISH_SONGS_LYRICS.csv')"
   ]
  },
  {
   "cell_type": "code",
   "execution_count": null,
   "id": "152be9e7-4acb-495e-974e-e96dd964cebe",
   "metadata": {},
   "outputs": [],
   "source": [
    "ENGLISH_SONGS_DF['Translated_Lyrics'] = ENGLISH_SONGS_DF['Lyric']"
   ]
  },
  {
   "cell_type": "code",
   "execution_count": null,
   "id": "b5fa7ed5-ec3c-4687-9323-6d53e46de28c",
   "metadata": {},
   "outputs": [],
   "source": [
    "All_Lyrics = NON_ENGLISH_SONGS_DF.append(ENGLISH_SONGS_DF, ignore_index=True)"
   ]
  },
  {
   "cell_type": "code",
   "execution_count": null,
   "id": "19e56d86-239c-42f9-943a-8e4999e8d26d",
   "metadata": {},
   "outputs": [],
   "source": [
    "All_Lyrics.to_csv('C://Users//Grant//Desktop//TA_PROJECT//Translated_Lyrics.csv')"
   ]
  }
 ],
 "metadata": {
  "kernelspec": {
   "display_name": "Python 3",
   "language": "python",
   "name": "python3"
  },
  "language_info": {
   "codemirror_mode": {
    "name": "ipython",
    "version": 3
   },
   "file_extension": ".py",
   "mimetype": "text/x-python",
   "name": "python",
   "nbconvert_exporter": "python",
   "pygments_lexer": "ipython3",
   "version": "3.8.8"
  }
 },
 "nbformat": 4,
 "nbformat_minor": 5
}
